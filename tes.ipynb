{
 "cells": [
  {
   "cell_type": "code",
   "execution_count": 3,
   "id": "d97235f3",
   "metadata": {},
   "outputs": [
    {
     "name": "stdout",
     "output_type": "stream",
     "text": [
      "Jumlah data dalam file JSON: 6562\n"
     ]
    }
   ],
   "source": [
    "import json\n",
    "import os\n",
    "\n",
    "# Tentukan path ke file JSON\n",
    "# Ganti 'path/to/your/file.json' dengan path file JSON Anda\n",
    "# json_file_path = os.path.join(os.path.dirname(__file__), 'datasets', 'clean_dataset.json')\n",
    "json_file_path = \"datasets/clean_dataset.json\"\n",
    "\n",
    "try:\n",
    "    # Baca file JSON\n",
    "    with open(json_file_path, 'r', encoding='utf-8') as file:\n",
    "        data = json.load(file)\n",
    "    \n",
    "    # Hitung jumlah data\n",
    "    # Asumsi data adalah list (array) objek\n",
    "    if isinstance(data, list):\n",
    "        count = len(data)\n",
    "        print(f\"Jumlah data dalam file JSON: {count}\")\n",
    "    else:\n",
    "        print(\"Data JSON bukan berupa list. Tidak dapat menghitung jumlah data.\")\n",
    "\n",
    "except FileNotFoundError:\n",
    "    print(f\"Error: File {json_file_path} tidak ditemukan.\")\n",
    "except json.JSONDecodeError:\n",
    "    print(\"Error: File JSON tidak valid.\")\n",
    "except Exception as e:\n",
    "    print(f\"Error: {str(e)}\")"
   ]
  }
 ],
 "metadata": {
  "kernelspec": {
   "display_name": "Python 3",
   "language": "python",
   "name": "python3"
  },
  "language_info": {
   "codemirror_mode": {
    "name": "ipython",
    "version": 3
   },
   "file_extension": ".py",
   "mimetype": "text/x-python",
   "name": "python",
   "nbconvert_exporter": "python",
   "pygments_lexer": "ipython3",
   "version": "3.11.5"
  }
 },
 "nbformat": 4,
 "nbformat_minor": 5
}
