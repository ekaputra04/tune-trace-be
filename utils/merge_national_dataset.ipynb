{
 "cells": [
  {
   "cell_type": "code",
   "execution_count": 1,
   "id": "ad7ff4ba",
   "metadata": {},
   "outputs": [],
   "source": [
    "import json\n",
    "import pandas as pd"
   ]
  },
  {
   "cell_type": "code",
   "execution_count": null,
   "id": "dcdf850e",
   "metadata": {},
   "outputs": [],
   "source": [
    "# Load dataset1.json\n",
    "with open('../datasets/national/dataset1.json', 'r', encoding='utf-8') as f:\n",
    "    data1 = json.load(f)['lyrics']\n",
    "\n",
    "# Format dari dataset1\n",
    "data_dict = {\n",
    "    (item['title'].strip().lower(), item['artist'].strip().lower()): {\n",
    "        \"title\": item['title'].strip(),\n",
    "        \"artist\": item['artist'].strip(),\n",
    "        \"lyric\": item['lyric'].replace(\"\\n\", \". \").strip()\n",
    "    }\n",
    "    for item in data1\n",
    "}\n",
    "\n",
    "# Load dataset2.csv\n",
    "df2 = pd.read_csv('../datasets/national/dataset2.csv')\n",
    "\n",
    "# Format dari dataset2\n",
    "for _, row in df2.iterrows():\n",
    "    key = (str(row['title']).strip().lower(), str(row['artist']).strip().lower())\n",
    "    if key not in data_dict:\n",
    "        data_dict[key] = {\n",
    "            \"title\": str(row['title']).strip(),\n",
    "            \"artist\": str(row['artist']).strip(),\n",
    "            \"lyric\": str(row['full']).replace(\"\\n\", \". \").strip()\n",
    "        }\n",
    "\n",
    "# Simpan sebagai merge_national_dataset.json\n",
    "with open('../datasets/merge_national_dataset.json', 'w', encoding='utf-8') as f:\n",
    "    json.dump(list(data_dict.values()), f, indent=2, ensure_ascii=False)\n"
   ]
  },
  {
   "cell_type": "code",
   "execution_count": 3,
   "id": "408ec404",
   "metadata": {},
   "outputs": [
    {
     "name": "stdout",
     "output_type": "stream",
     "text": [
      "<class 'pandas.core.frame.DataFrame'>\n",
      "RangeIndex: 581 entries, 0 to 580\n",
      "Data columns (total 3 columns):\n",
      " #   Column  Non-Null Count  Dtype \n",
      "---  ------  --------------  ----- \n",
      " 0   title   581 non-null    object\n",
      " 1   artist  581 non-null    object\n",
      " 2   lyric   581 non-null    object\n",
      "dtypes: object(3)\n",
      "memory usage: 13.7+ KB\n"
     ]
    }
   ],
   "source": [
    "# Load file merge_national_dataset.json\n",
    "with open('../datasets/merge_national_dataset.json', 'r', encoding='utf-8') as f:\n",
    "    data = json.load(f)\n",
    "\n",
    "# Ubah menjadi DataFrame\n",
    "df = pd.DataFrame(data)\n",
    "\n",
    "df.info()\n"
   ]
  }
 ],
 "metadata": {
  "kernelspec": {
   "display_name": "Python 3",
   "language": "python",
   "name": "python3"
  },
  "language_info": {
   "codemirror_mode": {
    "name": "ipython",
    "version": 3
   },
   "file_extension": ".py",
   "mimetype": "text/x-python",
   "name": "python",
   "nbconvert_exporter": "python",
   "pygments_lexer": "ipython3",
   "version": "3.11.5"
  }
 },
 "nbformat": 4,
 "nbformat_minor": 5
}
