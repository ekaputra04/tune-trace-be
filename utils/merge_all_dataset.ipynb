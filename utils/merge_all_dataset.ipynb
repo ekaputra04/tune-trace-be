{
 "cells": [
  {
   "cell_type": "code",
   "execution_count": null,
   "id": "b35d5261",
   "metadata": {},
   "outputs": [
    {
     "name": "stdout",
     "output_type": "stream",
     "text": [
      "Total lagu dalam merge_all_dataset.json: 6562\n"
     ]
    }
   ],
   "source": [
    "import json\n",
    "\n",
    "# Langkah 1: Buka file national\n",
    "with open('../datasets/merge_national_dataset.json', 'r', encoding='utf-8') as f:\n",
    "    national_data = json.load(f)\n",
    "\n",
    "# Langkah 2: Buka file international\n",
    "with open('../datasets/merge_international_dataset.json', 'r', encoding='utf-8') as f:\n",
    "    international_data = json.load(f)\n",
    "\n",
    "# Langkah 3: Gabungkan keduanya\n",
    "all_data = national_data + international_data\n",
    "\n",
    "# Langkah 4: Simpan ke file baru\n",
    "with open('../datasets/merge_all_dataset.json', 'w', encoding='utf-8') as f:\n",
    "    json.dump(all_data, f, ensure_ascii=False, indent=2)\n",
    "\n",
    "# Langkah 5: Tampilkan jumlah total lagu\n",
    "print(f\"Total lagu dalam merge_all_dataset.json: {len(all_data)}\")\n"
   ]
  }
 ],
 "metadata": {
  "kernelspec": {
   "display_name": "Python 3",
   "language": "python",
   "name": "python3"
  },
  "language_info": {
   "codemirror_mode": {
    "name": "ipython",
    "version": 3
   },
   "file_extension": ".py",
   "mimetype": "text/x-python",
   "name": "python",
   "nbconvert_exporter": "python",
   "pygments_lexer": "ipython3",
   "version": "3.11.5"
  }
 },
 "nbformat": 4,
 "nbformat_minor": 5
}
