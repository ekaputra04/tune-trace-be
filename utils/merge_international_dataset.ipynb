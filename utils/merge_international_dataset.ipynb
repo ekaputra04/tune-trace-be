{
 "cells": [
  {
   "cell_type": "code",
   "execution_count": 4,
   "id": "2372ae8d",
   "metadata": {},
   "outputs": [],
   "source": [
    "import pandas as pd\n",
    "import os\n",
    "import json"
   ]
  },
  {
   "cell_type": "code",
   "execution_count": 5,
   "id": "99eff90c",
   "metadata": {},
   "outputs": [
    {
     "name": "stdout",
     "output_type": "stream",
     "text": [
      "Berhasil digabung: 5981 lagu\n"
     ]
    }
   ],
   "source": [
    "# Langkah 2: Tentukan folder tempat file CSV berada\n",
    "folder_path = '../datasets/international'  # Ubah path sesuai lokasi folder\n",
    "\n",
    "# Langkah 3: Ambil semua nama file .csv dalam folder\n",
    "csv_files = [file for file in os.listdir(folder_path) if file.endswith('.csv')]\n",
    "\n",
    "# Langkah 4: Baca dan gabungkan semua CSV\n",
    "dataframes = []\n",
    "\n",
    "for file in csv_files:\n",
    "    file_path = os.path.join(folder_path, file)\n",
    "    df = pd.read_csv(file_path)\n",
    "\n",
    "    # Ambil hanya kolom Title, Artist, dan Lyric\n",
    "    df = df[['Title', 'Artist', 'Lyric']]\n",
    "\n",
    "    # Hapus baris dengan lyric kosong\n",
    "    df = df.dropna(subset=['Lyric'])\n",
    "\n",
    "    # Ganti \\n menjadi titik dan hapus karakter line separator aneh\n",
    "    df['Lyric'] = df['Lyric'].astype(str).apply(\n",
    "        lambda x: x.replace('\\n', '. ')\n",
    "                  .replace('\\u2028', '')\n",
    "                  .replace('\\u2029', '')\n",
    "    )\n",
    "\n",
    "    # Tambahkan ke daftar\n",
    "    dataframes.append(df)\n",
    "\n",
    "# Langkah 5: Gabungkan semua DataFrame\n",
    "combined_df = pd.concat(dataframes, ignore_index=True)\n",
    "\n",
    "# Langkah 6: Ubah nama kolom agar sesuai format output\n",
    "combined_df.rename(columns={\n",
    "    'Title': 'title',\n",
    "    'Artist': 'artist',\n",
    "    'Lyric': 'lyric'\n",
    "}, inplace=True)\n",
    "\n",
    "# Langkah 7: Ubah menjadi list of dict dan simpan sebagai JSON\n",
    "output_data = combined_df.to_dict(orient='records')\n",
    "\n",
    "with open('../datasets/merge_international_dataset.json', 'w', encoding='utf-8') as f:\n",
    "    json.dump(output_data, f, ensure_ascii=False, indent=2)\n",
    "\n",
    "# Langkah 8: Tampilkan jumlah lagu yang berhasil digabung\n",
    "print(f\"Berhasil digabung: {len(output_data)} lagu\")\n"
   ]
  }
 ],
 "metadata": {
  "kernelspec": {
   "display_name": "Python 3",
   "language": "python",
   "name": "python3"
  },
  "language_info": {
   "codemirror_mode": {
    "name": "ipython",
    "version": 3
   },
   "file_extension": ".py",
   "mimetype": "text/x-python",
   "name": "python",
   "nbconvert_exporter": "python",
   "pygments_lexer": "ipython3",
   "version": "3.11.5"
  }
 },
 "nbformat": 4,
 "nbformat_minor": 5
}
